{
 "cells": [
  {
   "cell_type": "markdown",
   "metadata": {},
   "source": [
    "# Steps\n",
    "\n",
    "1. General dataset exploration\n",
    "2. Basic data visualisation\n",
    "3. Tokenize text data\n",
    "4. Build autencoder and clustering layer\n",
    "5. Visualize the cluster with Seaborn\n",
    "6. Interactive scatterplot with Bokeh"
   ]
  },
  {
   "cell_type": "markdown",
   "metadata": {},
   "source": [
    "# Load the Dataset and Validate 5 Samples"
   ]
  },
  {
   "cell_type": "code",
   "execution_count": 1,
   "metadata": {},
   "outputs": [
    {
     "name": "stdout",
     "output_type": "stream",
     "text": [
      "True\n"
     ]
    }
   ],
   "source": [
    "import pandas as pd\n",
    "import numpy as np\n",
    "from IPython.display import display, HTML\n",
    "import tensorflow as tf; \n",
    "print(tf.test.is_built_with_cuda())"
   ]
  },
  {
   "cell_type": "code",
   "execution_count": 2,
   "metadata": {},
   "outputs": [
    {
     "data": {
      "text/html": [
       "<div>\n",
       "<style scoped>\n",
       "    .dataframe tbody tr th:only-of-type {\n",
       "        vertical-align: middle;\n",
       "    }\n",
       "\n",
       "    .dataframe tbody tr th {\n",
       "        vertical-align: top;\n",
       "    }\n",
       "\n",
       "    .dataframe thead th {\n",
       "        text-align: right;\n",
       "    }\n",
       "</style>\n",
       "<table border=\"1\" class=\"dataframe\">\n",
       "  <thead>\n",
       "    <tr style=\"text-align: right;\">\n",
       "      <th></th>\n",
       "      <th>show_id</th>\n",
       "      <th>type</th>\n",
       "      <th>title</th>\n",
       "      <th>director</th>\n",
       "      <th>cast</th>\n",
       "      <th>country</th>\n",
       "      <th>date_added</th>\n",
       "      <th>release_year</th>\n",
       "      <th>rating</th>\n",
       "      <th>duration</th>\n",
       "      <th>listed_in</th>\n",
       "      <th>description</th>\n",
       "    </tr>\n",
       "  </thead>\n",
       "  <tbody>\n",
       "    <tr>\n",
       "      <th>886</th>\n",
       "      <td>s887</td>\n",
       "      <td>TV Show</td>\n",
       "      <td>The Mystic River</td>\n",
       "      <td>Uzodinma Okpechi</td>\n",
       "      <td>Jide Kosoko, Dele Odule, Lota Chukwu, Ben Toui...</td>\n",
       "      <td>NaN</td>\n",
       "      <td>May 14, 2021</td>\n",
       "      <td>2020</td>\n",
       "      <td>TV-14</td>\n",
       "      <td>1 Season</td>\n",
       "      <td>International TV Shows, TV Horror, TV Sci-Fi &amp;...</td>\n",
       "      <td>As pregnant women vanish in a remote Nigerian ...</td>\n",
       "    </tr>\n",
       "    <tr>\n",
       "      <th>3843</th>\n",
       "      <td>s3844</td>\n",
       "      <td>TV Show</td>\n",
       "      <td>Away From Home</td>\n",
       "      <td>NaN</td>\n",
       "      <td>Li Yongzhen, Zhuang Kebi, Zhang Shunyuan, Wang...</td>\n",
       "      <td>NaN</td>\n",
       "      <td>May 8, 2019</td>\n",
       "      <td>2015</td>\n",
       "      <td>TV-PG</td>\n",
       "      <td>1 Season</td>\n",
       "      <td>International TV Shows, TV Dramas</td>\n",
       "      <td>A high-achieving 11-year-old student embarks o...</td>\n",
       "    </tr>\n",
       "    <tr>\n",
       "      <th>7520</th>\n",
       "      <td>s7521</td>\n",
       "      <td>Movie</td>\n",
       "      <td>Mr. Woodcock</td>\n",
       "      <td>Craig Gillespie</td>\n",
       "      <td>Billy Bob Thornton, Seann William Scott, Ethan...</td>\n",
       "      <td>United States</td>\n",
       "      <td>September 1, 2019</td>\n",
       "      <td>2007</td>\n",
       "      <td>PG-13</td>\n",
       "      <td>88 min</td>\n",
       "      <td>Comedies</td>\n",
       "      <td>When a self-help author learns that his mother...</td>\n",
       "    </tr>\n",
       "    <tr>\n",
       "      <th>3661</th>\n",
       "      <td>s3662</td>\n",
       "      <td>Movie</td>\n",
       "      <td>Bogda</td>\n",
       "      <td>Nisheeta Keni</td>\n",
       "      <td>Suhas Joshi, Mrunmayee Deshpande, Rohit Kokate...</td>\n",
       "      <td>India</td>\n",
       "      <td>July 16, 2019</td>\n",
       "      <td>2018</td>\n",
       "      <td>TV-PG</td>\n",
       "      <td>161 min</td>\n",
       "      <td>Dramas, International Movies</td>\n",
       "      <td>An aspiring dancer accompanies her terminally ...</td>\n",
       "    </tr>\n",
       "    <tr>\n",
       "      <th>7322</th>\n",
       "      <td>s7323</td>\n",
       "      <td>Movie</td>\n",
       "      <td>Lizzie Borden Took an Ax</td>\n",
       "      <td>Nick Gomez</td>\n",
       "      <td>Christina Ricci, Clea DuVall, Gregg Henry, Ste...</td>\n",
       "      <td>United States</td>\n",
       "      <td>July 25, 2016</td>\n",
       "      <td>2014</td>\n",
       "      <td>TV-14</td>\n",
       "      <td>87 min</td>\n",
       "      <td>Thrillers</td>\n",
       "      <td>This made-for-TV drama chronicles the scandal ...</td>\n",
       "    </tr>\n",
       "  </tbody>\n",
       "</table>\n",
       "</div>"
      ],
      "text/plain": [
       "     show_id     type                     title          director  \\\n",
       "886     s887  TV Show          The Mystic River  Uzodinma Okpechi   \n",
       "3843   s3844  TV Show            Away From Home               NaN   \n",
       "7520   s7521    Movie              Mr. Woodcock   Craig Gillespie   \n",
       "3661   s3662    Movie                     Bogda     Nisheeta Keni   \n",
       "7322   s7323    Movie  Lizzie Borden Took an Ax        Nick Gomez   \n",
       "\n",
       "                                                   cast        country  \\\n",
       "886   Jide Kosoko, Dele Odule, Lota Chukwu, Ben Toui...            NaN   \n",
       "3843  Li Yongzhen, Zhuang Kebi, Zhang Shunyuan, Wang...            NaN   \n",
       "7520  Billy Bob Thornton, Seann William Scott, Ethan...  United States   \n",
       "3661  Suhas Joshi, Mrunmayee Deshpande, Rohit Kokate...          India   \n",
       "7322  Christina Ricci, Clea DuVall, Gregg Henry, Ste...  United States   \n",
       "\n",
       "             date_added  release_year rating  duration  \\\n",
       "886        May 14, 2021          2020  TV-14  1 Season   \n",
       "3843        May 8, 2019          2015  TV-PG  1 Season   \n",
       "7520  September 1, 2019          2007  PG-13    88 min   \n",
       "3661      July 16, 2019          2018  TV-PG   161 min   \n",
       "7322      July 25, 2016          2014  TV-14    87 min   \n",
       "\n",
       "                                              listed_in  \\\n",
       "886   International TV Shows, TV Horror, TV Sci-Fi &...   \n",
       "3843                  International TV Shows, TV Dramas   \n",
       "7520                                           Comedies   \n",
       "3661                       Dramas, International Movies   \n",
       "7322                                          Thrillers   \n",
       "\n",
       "                                            description  \n",
       "886   As pregnant women vanish in a remote Nigerian ...  \n",
       "3843  A high-achieving 11-year-old student embarks o...  \n",
       "7520  When a self-help author learns that his mother...  \n",
       "3661  An aspiring dancer accompanies her terminally ...  \n",
       "7322  This made-for-TV drama chronicles the scandal ...  "
      ]
     },
     "execution_count": 2,
     "metadata": {},
     "output_type": "execute_result"
    }
   ],
   "source": [
    "INPUT_DIR_NETFLIX = \"netflix_titles.csv\"\n",
    "\n",
    "df_netflix = pd.read_csv(INPUT_DIR_NETFLIX)\n",
    "df_netflix.sample(5)"
   ]
  },
  {
   "cell_type": "markdown",
   "metadata": {},
   "source": [
    "# Data Cleansing and Fetching Movie Data\n",
    "\n",
    "1. Remove duplications\n",
    "2. Replace missing director data with 'no data'\n",
    "3. Drop NA records "
   ]
  },
  {
   "cell_type": "code",
   "execution_count": 4,
   "metadata": {},
   "outputs": [
    {
     "name": "stdout",
     "output_type": "stream",
     "text": [
      "show_id         0\n",
      "type            0\n",
      "title           0\n",
      "director        0\n",
      "cast            0\n",
      "country         0\n",
      "date_added      0\n",
      "release_year    0\n",
      "rating          0\n",
      "duration        0\n",
      "listed_in       0\n",
      "description     0\n",
      "dtype: int64\n",
      "<class 'pandas.core.frame.DataFrame'>\n",
      "Int64Index: 5277 entries, 7 to 8806\n",
      "Data columns (total 12 columns):\n",
      " #   Column        Non-Null Count  Dtype \n",
      "---  ------        --------------  ----- \n",
      " 0   show_id       5277 non-null   object\n",
      " 1   type          5277 non-null   object\n",
      " 2   title         5277 non-null   object\n",
      " 3   director      5277 non-null   object\n",
      " 4   cast          5277 non-null   object\n",
      " 5   country       5277 non-null   object\n",
      " 6   date_added    5277 non-null   object\n",
      " 7   release_year  5277 non-null   int64 \n",
      " 8   rating        5277 non-null   object\n",
      " 9   duration      5277 non-null   object\n",
      " 10  listed_in     5277 non-null   object\n",
      " 11  description   5277 non-null   object\n",
      "dtypes: int64(1), object(11)\n",
      "memory usage: 535.9+ KB\n",
      "None\n"
     ]
    }
   ],
   "source": [
    "df_netflix['director'].replace(np.nan, 'No Data',inplace  = True)\n",
    "\n",
    "# Drops\n",
    "\n",
    "df_netflix.dropna(inplace=True)\n",
    "\n",
    "# Drop Duplicates\n",
    "\n",
    "df_netflix.drop_duplicates(inplace= True)\n",
    "\n",
    "df_movies_netflix = df_netflix.loc[df_netflix['type'] == 'Movie']\n",
    "\n",
    "# verify dataframe\n",
    "print(df_movies_netflix.isnull().sum())\n",
    "print(df_movies_netflix.info())"
   ]
  },
  {
   "cell_type": "markdown",
   "metadata": {},
   "source": [
    "# Feature Selection for Clustering\n",
    "\n",
    "- Lets start with just the description.\n",
    "\n",
    "- Preprocess and tokenize the description\n"
   ]
  },
  {
   "cell_type": "code",
   "execution_count": 5,
   "metadata": {},
   "outputs": [],
   "source": [
    "from sklearn.feature_extraction.text import TfidfVectorizer\n",
    "from sklearn.cluster import MiniBatchKMeans"
   ]
  },
  {
   "cell_type": "code",
   "execution_count": 6,
   "metadata": {},
   "outputs": [],
   "source": [
    "text_content = df_movies_netflix['description']\n",
    "vector = TfidfVectorizer(max_df = 0.4,           # drop words that occur more than max_df %\n",
    "                         stop_words = 'english', # remove stop words\n",
    "                         lowercase = True,       # everything to lowercase\n",
    "                         use_idf = True,\n",
    "                         norm = u'l2',\n",
    "                         smooth_idf = True       # prevent divide by zero errors\n",
    "                         )\n",
    "\n",
    "tfidf = vector.fit_transform(text_content)"
   ]
  },
  {
   "cell_type": "code",
   "execution_count": 7,
   "metadata": {},
   "outputs": [
    {
     "name": "stderr",
     "output_type": "stream",
     "text": [
      "<ipython-input-7-0b88812b299f>:8: SettingWithCopyWarning: \n",
      "A value is trying to be set on a copy of a slice from a DataFrame.\n",
      "Try using .loc[row_indexer,col_indexer] = value instead\n",
      "\n",
      "See the caveats in the documentation: https://pandas.pydata.org/pandas-docs/stable/user_guide/indexing.html#returning-a-view-versus-a-copy\n",
      "  df_movies_netflix['cluster'] = kmeans.predict(request_transform)\n"
     ]
    },
    {
     "data": {
      "text/plain": [
       "3    4603\n",
       "0     504\n",
       "1     116\n",
       "4      53\n",
       "2       1\n",
       "Name: cluster, dtype: int64"
      ]
     },
     "execution_count": 7,
     "metadata": {},
     "output_type": "execute_result"
    }
   ],
   "source": [
    "k = 5\n",
    "kmeans = MiniBatchKMeans(n_clusters = k)\n",
    "kmeans.fit(tfidf)\n",
    "centres = kmeans.cluster_centers_.argsort()[:, ::-1]\n",
    "terms = vector.get_feature_names()\n",
    "\n",
    "request_transform = vector.transform(df_movies_netflix['description'])\n",
    "df_movies_netflix['cluster'] = kmeans.predict(request_transform)\n",
    "df_movies_netflix['cluster'].value_counts()"
   ]
  },
  {
   "cell_type": "markdown",
   "metadata": {},
   "source": [
    "## Classification"
   ]
  },
  {
   "cell_type": "markdown",
   "metadata": {},
   "source": [
    "### Preprocessing"
   ]
  },
  {
   "cell_type": "code",
   "execution_count": 8,
   "metadata": {},
   "outputs": [],
   "source": [
    "from tensorflow.keras.preprocessing.text import Tokenizer\n",
    "from tensorflow.keras.preprocessing.sequence import pad_sequences\n",
    "from sklearn.model_selection import train_test_split\n",
    "from tensorflow.keras.utils import to_categorical"
   ]
  },
  {
   "cell_type": "code",
   "execution_count": 9,
   "metadata": {},
   "outputs": [
    {
     "name": "stdout",
     "output_type": "stream",
     "text": [
      "Found 15155 unique tokens.\n"
     ]
    }
   ],
   "source": [
    "n_most_common_words = 8000\n",
    "max_len = 130\n",
    "tokenizer = Tokenizer(num_words=n_most_common_words, filters='!\"#$%&()*+,-./:;<=>?@[\\]^_`{|}~', lower=True)\n",
    "tokenizer.fit_on_texts(df_movies_netflix['description'].values)\n",
    "sequences = tokenizer.texts_to_sequences(df_movies_netflix['description'].values)\n",
    "word_index = tokenizer.word_index\n",
    "print('Found %s unique tokens.' % len(word_index))\n",
    "\n",
    "X = pad_sequences(sequences, maxlen=max_len)"
   ]
  },
  {
   "cell_type": "code",
   "execution_count": 10,
   "metadata": {},
   "outputs": [],
   "source": [
    "categorized_clustered_labels = to_categorical(df_movies_netflix['cluster'], num_classes=5)"
   ]
  },
  {
   "cell_type": "code",
   "execution_count": 11,
   "metadata": {},
   "outputs": [],
   "source": [
    "X_train, X_test, y_train, y_test = train_test_split(X , categorized_clustered_labels, test_size=0.25, random_state=42)"
   ]
  },
  {
   "cell_type": "code",
   "execution_count": 26,
   "metadata": {},
   "outputs": [],
   "source": [
    "epochs = 10\n",
    "emb_dim = 128\n",
    "batch_size = 64"
   ]
  },
  {
   "cell_type": "code",
   "execution_count": 27,
   "metadata": {},
   "outputs": [],
   "source": [
    "from tensorflow.keras.layers import Dense, Embedding, LSTM, SpatialDropout1D\n",
    "from tensorflow.keras.models import Sequential\n",
    "from tensorflow.keras.callbacks import EarlyStopping"
   ]
  },
  {
   "cell_type": "code",
   "execution_count": 28,
   "metadata": {},
   "outputs": [],
   "source": [
    "from keras import backend as K\n",
    "\n",
    "def recall_m(y_true, y_pred):\n",
    "    true_positives = K.sum(K.round(K.clip(y_true * y_pred, 0, 1)))\n",
    "    possible_positives = K.sum(K.round(K.clip(y_true, 0, 1)))\n",
    "    recall = true_positives / (possible_positives + K.epsilon())\n",
    "    return recall\n",
    "\n",
    "def precision_m(y_true, y_pred):\n",
    "    true_positives = K.sum(K.round(K.clip(y_true * y_pred, 0, 1)))\n",
    "    predicted_positives = K.sum(K.round(K.clip(y_pred, 0, 1)))\n",
    "    precision = true_positives / (predicted_positives + K.epsilon())\n",
    "    return precision\n",
    "\n",
    "def f1_m(y_true, y_pred):\n",
    "    precision = precision_m(y_true, y_pred)\n",
    "    recall = recall_m(y_true, y_pred)\n",
    "    return 2*((precision*recall)/(precision+recall+K.epsilon()))"
   ]
  },
  {
   "cell_type": "code",
   "execution_count": 29,
   "metadata": {},
   "outputs": [
    {
     "name": "stdout",
     "output_type": "stream",
     "text": [
      "((3957, 130), (3957, 5), (1320, 130), (1320, 5))\n",
      "WARNING:tensorflow:Layer lstm_4 will not use cuDNN kernels since it doesn't meet the criteria. It will use a generic GPU kernel as fallback when running on GPU.\n",
      "Model: \"sequential_4\"\n",
      "_________________________________________________________________\n",
      " Layer (type)                Output Shape              Param #   \n",
      "=================================================================\n",
      " embedding_4 (Embedding)     (None, 130, 128)          1024000   \n",
      "                                                                 \n",
      " spatial_dropout1d_4 (Spatia  (None, 130, 128)         0         \n",
      " lDropout1D)                                                     \n",
      "                                                                 \n",
      " lstm_4 (LSTM)               (None, 64)                49408     \n",
      "                                                                 \n",
      " dense_4 (Dense)             (None, 5)                 325       \n",
      "                                                                 \n",
      "=================================================================\n",
      "Total params: 1,073,733\n",
      "Trainable params: 1,073,733\n",
      "Non-trainable params: 0\n",
      "_________________________________________________________________\n",
      "None\n",
      "Epoch 1/10\n",
      "50/50 [==============================] - 18s 314ms/step - loss: 0.7961 - acc: 0.8215 - recall_m: 0.6260 - precision_m: 0.6485 - f1_m: 0.6301 - val_loss: 0.4222 - val_acc: 0.8902 - val_recall_m: 0.8934 - val_precision_m: 0.8934 - val_f1_m: 0.8934\n",
      "Epoch 2/10\n",
      "50/50 [==============================] - 15s 301ms/step - loss: 0.4858 - acc: 0.8698 - recall_m: 0.8690 - precision_m: 0.8690 - f1_m: 0.8690 - val_loss: 0.4215 - val_acc: 0.8902 - val_recall_m: 0.8934 - val_precision_m: 0.8934 - val_f1_m: 0.8934\n",
      "Epoch 3/10\n",
      "50/50 [==============================] - 15s 303ms/step - loss: 0.4801 - acc: 0.8698 - recall_m: 0.8690 - precision_m: 0.8690 - f1_m: 0.8690 - val_loss: 0.4160 - val_acc: 0.8902 - val_recall_m: 0.8934 - val_precision_m: 0.8934 - val_f1_m: 0.8934\n",
      "Epoch 4/10\n",
      "50/50 [==============================] - 15s 306ms/step - loss: 0.4699 - acc: 0.8698 - recall_m: 0.8694 - precision_m: 0.8694 - f1_m: 0.8694 - val_loss: 0.4084 - val_acc: 0.8902 - val_recall_m: 0.8934 - val_precision_m: 0.8934 - val_f1_m: 0.8934\n",
      "Epoch 5/10\n",
      "50/50 [==============================] - 15s 303ms/step - loss: 0.4324 - acc: 0.8714 - recall_m: 0.8694 - precision_m: 0.8719 - f1_m: 0.8706 - val_loss: 0.4126 - val_acc: 0.8902 - val_recall_m: 0.8934 - val_precision_m: 0.8944 - val_f1_m: 0.8939\n",
      "Epoch 6/10\n",
      "50/50 [==============================] - 15s 302ms/step - loss: 0.2954 - acc: 0.9144 - recall_m: 0.9032 - precision_m: 0.9212 - f1_m: 0.9121 - val_loss: 0.3086 - val_acc: 0.9242 - val_recall_m: 0.9267 - val_precision_m: 0.9290 - val_f1_m: 0.9278\n",
      "Epoch 7/10\n",
      "50/50 [==============================] - 15s 306ms/step - loss: 0.2160 - acc: 0.9403 - recall_m: 0.9368 - precision_m: 0.9465 - f1_m: 0.9416 - val_loss: 0.3054 - val_acc: 0.9318 - val_recall_m: 0.9339 - val_precision_m: 0.9385 - val_f1_m: 0.9362\n",
      "Epoch 8/10\n",
      "50/50 [==============================] - 15s 303ms/step - loss: 0.1740 - acc: 0.9510 - recall_m: 0.9488 - precision_m: 0.9568 - f1_m: 0.9527 - val_loss: 0.1881 - val_acc: 0.9609 - val_recall_m: 0.9615 - val_precision_m: 0.9639 - val_f1_m: 0.9627\n",
      "Epoch 9/10\n",
      "50/50 [==============================] - 15s 305ms/step - loss: 0.1731 - acc: 0.9476 - recall_m: 0.9453 - precision_m: 0.9564 - f1_m: 0.9507 - val_loss: 0.1821 - val_acc: 0.9609 - val_recall_m: 0.9591 - val_precision_m: 0.9650 - val_f1_m: 0.9620\n",
      "Epoch 10/10\n",
      "50/50 [==============================] - 15s 305ms/step - loss: 0.1416 - acc: 0.9570 - recall_m: 0.9524 - precision_m: 0.9654 - f1_m: 0.9588 - val_loss: 0.2062 - val_acc: 0.9596 - val_recall_m: 0.9615 - val_precision_m: 0.9639 - val_f1_m: 0.9627\n"
     ]
    }
   ],
   "source": [
    "print((X_train.shape, y_train.shape, X_test.shape, y_test.shape))\n",
    "\n",
    "model = Sequential()\n",
    "model.add(Embedding(n_most_common_words, emb_dim, input_length=X.shape[1]))\n",
    "model.add(SpatialDropout1D(0.7))\n",
    "model.add(LSTM(64, dropout=0.7, recurrent_dropout=0.7))\n",
    "model.add(Dense(5, activation='softmax'))\n",
    "model.compile(optimizer='adam', loss='categorical_crossentropy', metrics=['acc',recall_m, precision_m,f1_m])\n",
    "print(model.summary())\n",
    "history = model.fit(X_train, y_train, epochs=epochs, batch_size=batch_size,validation_split=0.2,callbacks=[EarlyStopping(monitor='val_loss',patience=7, min_delta=0.0001)])"
   ]
  },
  {
   "cell_type": "code",
   "execution_count": null,
   "metadata": {},
   "outputs": [],
   "source": [
    "accr = model.evaluate(X_test,y_test)\n",
    "print('Test set\\n  Loss: {:0.3f}\\n  Accuracy: {:0.3f}'.format(accr[0],accr[1]))"
   ]
  },
  {
   "cell_type": "code",
   "execution_count": 21,
   "metadata": {},
   "outputs": [
    {
     "data": {
      "image/png": "[encoded data removed]",
      "text/plain": [
       "<Figure size 432x288 with 1 Axes>"
      ]
     },
     "metadata": {
      "needs_background": "light"
     },
     "output_type": "display_data"
    },
    {
     "data": {
      "image/png": "[encoded data removed]",
      "text/plain": [
       "<Figure size 432x288 with 1 Axes>"
      ]
     },
     "metadata": {
      "needs_background": "light"
     },
     "output_type": "display_data"
    }
   ],
   "source": [
    "import matplotlib.pyplot as plt\n",
    "\n",
    "acc = history.history['acc']\n",
    "val_acc = history.history['val_acc']\n",
    "loss = history.history['loss']\n",
    "val_loss = history.history['val_loss']\n",
    "\n",
    "epochs = range(1, len(acc) + 1)\n",
    "\n",
    "plt.plot(epochs, acc, 'bo', label='Training acc')\n",
    "plt.plot(epochs, val_acc, 'b', label='Validation acc')\n",
    "plt.title('Training and validation accuracy')\n",
    "plt.legend()\n",
    "\n",
    "plt.figure()\n",
    "\n",
    "plt.plot(epochs, loss, 'bo', label='Training loss')\n",
    "plt.plot(epochs, val_loss, 'b', label='Validation loss')\n",
    "plt.title('Training and validation loss')\n",
    "plt.legend()\n",
    "\n",
    "plt.show()"
   ]
  },
  {
   "cell_type": "code",
   "execution_count": null,
   "metadata": {},
   "outputs": [],
   "source": []
  }
 ],
 "metadata": {
  "interpreter": {
   "hash": "949777d72b0d2535278d3dc13498b2535136f6dfe0678499012e853ee9abcab1"
  },
  "kernelspec": {
   "display_name": "Python 3",
   "language": "python",
   "name": "python3"
  },
  "language_info": {
   "codemirror_mode": {
    "name": "ipython",
    "version": 3
   },
   "file_extension": ".py",
   "mimetype": "text/x-python",
   "name": "python",
   "nbconvert_exporter": "python",
   "pygments_lexer": "ipython3",
   "version": "3.8.8"
  }
 },
 "nbformat": 4,
 "nbformat_minor": 4
}
