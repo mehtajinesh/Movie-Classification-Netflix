{
 "cells": [
  {
   "cell_type": "markdown",
   "metadata": {},
   "source": [
    "# Steps\n",
    "\n",
    "1. General dataset exploration\n",
    "2. Basic data visualisation\n",
    "3. Tokenize text data\n",
    "4. Build autencoder and clustering layer\n",
    "5. Visualize the cluster with Seaborn\n",
    "6. Interactive scatterplot with Bokeh"
   ]
  },
  {
   "cell_type": "markdown",
   "metadata": {},
   "source": [
    "# Load the Dataset and Validate 5 Samples"
   ]
  },
  {
   "cell_type": "code",
   "execution_count": 2,
   "metadata": {},
   "outputs": [],
   "source": [
    "import pandas as pd\n",
    "import numpy as np\n",
    "from IPython.display import display, HTML\n"
   ]
  },
  {
   "cell_type": "code",
   "execution_count": 3,
   "metadata": {},
   "outputs": [
    {
     "data": {
      "text/html": [
       "<div>\n",
       "<style scoped>\n",
       "    .dataframe tbody tr th:only-of-type {\n",
       "        vertical-align: middle;\n",
       "    }\n",
       "\n",
       "    .dataframe tbody tr th {\n",
       "        vertical-align: top;\n",
       "    }\n",
       "\n",
       "    .dataframe thead th {\n",
       "        text-align: right;\n",
       "    }\n",
       "</style>\n",
       "<table border=\"1\" class=\"dataframe\">\n",
       "  <thead>\n",
       "    <tr style=\"text-align: right;\">\n",
       "      <th></th>\n",
       "      <th>show_id</th>\n",
       "      <th>type</th>\n",
       "      <th>title</th>\n",
       "      <th>director</th>\n",
       "      <th>cast</th>\n",
       "      <th>country</th>\n",
       "      <th>date_added</th>\n",
       "      <th>release_year</th>\n",
       "      <th>rating</th>\n",
       "      <th>duration</th>\n",
       "      <th>listed_in</th>\n",
       "      <th>description</th>\n",
       "    </tr>\n",
       "  </thead>\n",
       "  <tbody>\n",
       "    <tr>\n",
       "      <th>51</th>\n",
       "      <td>s52</td>\n",
       "      <td>Movie</td>\n",
       "      <td>InuYasha the Movie 2: The Castle Beyond the Lo...</td>\n",
       "      <td>Toshiya Shinohara</td>\n",
       "      <td>Kappei Yamaguchi, Satsuki Yukino, Mieko Harada...</td>\n",
       "      <td>Japan</td>\n",
       "      <td>September 15, 2021</td>\n",
       "      <td>2002</td>\n",
       "      <td>TV-14</td>\n",
       "      <td>99 min</td>\n",
       "      <td>Action &amp; Adventure, Anime Features, Internatio...</td>\n",
       "      <td>With their biggest foe seemingly defeated, Inu...</td>\n",
       "    </tr>\n",
       "    <tr>\n",
       "      <th>7454</th>\n",
       "      <td>s7455</td>\n",
       "      <td>Movie</td>\n",
       "      <td>Midnight Special</td>\n",
       "      <td>Jeff Nichols</td>\n",
       "      <td>Michael Shannon, Joel Edgerton, Kirsten Dunst,...</td>\n",
       "      <td>United States, Greece</td>\n",
       "      <td>September 7, 2020</td>\n",
       "      <td>2016</td>\n",
       "      <td>PG-13</td>\n",
       "      <td>112 min</td>\n",
       "      <td>Action &amp; Adventure, Sci-Fi &amp; Fantasy</td>\n",
       "      <td>When his son exhibits supernatural powers, a f...</td>\n",
       "    </tr>\n",
       "    <tr>\n",
       "      <th>3983</th>\n",
       "      <td>s3984</td>\n",
       "      <td>Movie</td>\n",
       "      <td>ReMastered: The Miami Showband Massacre</td>\n",
       "      <td>Stuart Sender</td>\n",
       "      <td>NaN</td>\n",
       "      <td>United States</td>\n",
       "      <td>March 22, 2019</td>\n",
       "      <td>2019</td>\n",
       "      <td>TV-MA</td>\n",
       "      <td>71 min</td>\n",
       "      <td>Documentaries, Music &amp; Musicals</td>\n",
       "      <td>The killing of three members of the Miami Show...</td>\n",
       "    </tr>\n",
       "    <tr>\n",
       "      <th>6176</th>\n",
       "      <td>s6177</td>\n",
       "      <td>Movie</td>\n",
       "      <td>Anwar</td>\n",
       "      <td>Manish Jha</td>\n",
       "      <td>Siddharth Koirala, Nauheed Cyrusi, Manisha Koi...</td>\n",
       "      <td>India</td>\n",
       "      <td>December 31, 2019</td>\n",
       "      <td>2007</td>\n",
       "      <td>TV-14</td>\n",
       "      <td>134 min</td>\n",
       "      <td>Dramas, Independent Movies, International Movies</td>\n",
       "      <td>Seeking refuge in a Hindu temple after the tra...</td>\n",
       "    </tr>\n",
       "    <tr>\n",
       "      <th>671</th>\n",
       "      <td>s672</td>\n",
       "      <td>Movie</td>\n",
       "      <td>Mobile Suit Gundam III: Encounters in Space</td>\n",
       "      <td>Yoshiyuki Tomino, Yoshikazu Yasuhiko</td>\n",
       "      <td>Toru Furuya, Shuichi Ikeda, Hirotaka Suzuoki, ...</td>\n",
       "      <td>NaN</td>\n",
       "      <td>June 19, 2021</td>\n",
       "      <td>1982</td>\n",
       "      <td>TV-MA</td>\n",
       "      <td>140 min</td>\n",
       "      <td>Action &amp; Adventure, Anime Features, Internatio...</td>\n",
       "      <td>The Earth Federation prepares to take the war ...</td>\n",
       "    </tr>\n",
       "  </tbody>\n",
       "</table>\n",
       "</div>"
      ],
      "text/plain": [
       "     show_id   type                                              title  \\\n",
       "51       s52  Movie  InuYasha the Movie 2: The Castle Beyond the Lo...   \n",
       "7454   s7455  Movie                                   Midnight Special   \n",
       "3983   s3984  Movie            ReMastered: The Miami Showband Massacre   \n",
       "6176   s6177  Movie                                              Anwar   \n",
       "671     s672  Movie        Mobile Suit Gundam III: Encounters in Space   \n",
       "\n",
       "                                  director  \\\n",
       "51                       Toshiya Shinohara   \n",
       "7454                          Jeff Nichols   \n",
       "3983                         Stuart Sender   \n",
       "6176                            Manish Jha   \n",
       "671   Yoshiyuki Tomino, Yoshikazu Yasuhiko   \n",
       "\n",
       "                                                   cast  \\\n",
       "51    Kappei Yamaguchi, Satsuki Yukino, Mieko Harada...   \n",
       "7454  Michael Shannon, Joel Edgerton, Kirsten Dunst,...   \n",
       "3983                                                NaN   \n",
       "6176  Siddharth Koirala, Nauheed Cyrusi, Manisha Koi...   \n",
       "671   Toru Furuya, Shuichi Ikeda, Hirotaka Suzuoki, ...   \n",
       "\n",
       "                    country          date_added  release_year rating duration  \\\n",
       "51                    Japan  September 15, 2021          2002  TV-14   99 min   \n",
       "7454  United States, Greece   September 7, 2020          2016  PG-13  112 min   \n",
       "3983          United States      March 22, 2019          2019  TV-MA   71 min   \n",
       "6176                  India   December 31, 2019          2007  TV-14  134 min   \n",
       "671                     NaN       June 19, 2021          1982  TV-MA  140 min   \n",
       "\n",
       "                                              listed_in  \\\n",
       "51    Action & Adventure, Anime Features, Internatio...   \n",
       "7454               Action & Adventure, Sci-Fi & Fantasy   \n",
       "3983                    Documentaries, Music & Musicals   \n",
       "6176   Dramas, Independent Movies, International Movies   \n",
       "671   Action & Adventure, Anime Features, Internatio...   \n",
       "\n",
       "                                            description  \n",
       "51    With their biggest foe seemingly defeated, Inu...  \n",
       "7454  When his son exhibits supernatural powers, a f...  \n",
       "3983  The killing of three members of the Miami Show...  \n",
       "6176  Seeking refuge in a Hindu temple after the tra...  \n",
       "671   The Earth Federation prepares to take the war ...  "
      ]
     },
     "execution_count": 3,
     "metadata": {},
     "output_type": "execute_result"
    }
   ],
   "source": [
    "INPUT_DIR_NETFLIX = \"data/netflix_titles.csv\"\n",
    "\n",
    "df_netflix = pd.read_csv(INPUT_DIR_NETFLIX)\n",
    "df_netflix.sample(5)"
   ]
  },
  {
   "cell_type": "markdown",
   "metadata": {},
   "source": [
    "# Data Cleansing and Fetching Movie Data\n",
    "\n",
    "1. Remove duplications\n",
    "2. Replace missing director data with 'no data'\n",
    "3. Drop NA records "
   ]
  },
  {
   "cell_type": "code",
   "execution_count": 4,
   "metadata": {},
   "outputs": [
    {
     "name": "stdout",
     "output_type": "stream",
     "text": [
      "show_id         0\n",
      "type            0\n",
      "title           0\n",
      "director        0\n",
      "cast            0\n",
      "country         0\n",
      "date_added      0\n",
      "release_year    0\n",
      "rating          0\n",
      "duration        0\n",
      "listed_in       0\n",
      "description     0\n",
      "dtype: int64\n",
      "<class 'pandas.core.frame.DataFrame'>\n",
      "Int64Index: 5277 entries, 7 to 8806\n",
      "Data columns (total 12 columns):\n",
      " #   Column        Non-Null Count  Dtype \n",
      "---  ------        --------------  ----- \n",
      " 0   show_id       5277 non-null   object\n",
      " 1   type          5277 non-null   object\n",
      " 2   title         5277 non-null   object\n",
      " 3   director      5277 non-null   object\n",
      " 4   cast          5277 non-null   object\n",
      " 5   country       5277 non-null   object\n",
      " 6   date_added    5277 non-null   object\n",
      " 7   release_year  5277 non-null   int64 \n",
      " 8   rating        5277 non-null   object\n",
      " 9   duration      5277 non-null   object\n",
      " 10  listed_in     5277 non-null   object\n",
      " 11  description   5277 non-null   object\n",
      "dtypes: int64(1), object(11)\n",
      "memory usage: 535.9+ KB\n",
      "None\n"
     ]
    }
   ],
   "source": [
    "df_netflix['director'].replace(np.nan, 'No Data',inplace  = True)\n",
    "\n",
    "# Drops\n",
    "\n",
    "df_netflix.dropna(inplace=True)\n",
    "\n",
    "# Drop Duplicates\n",
    "\n",
    "df_netflix.drop_duplicates(inplace= True)\n",
    "\n",
    "df_movies_netflix = df_netflix.loc[df_netflix['type'] == 'Movie']\n",
    "\n",
    "# verify dataframe\n",
    "print(df_movies_netflix.isnull().sum())\n",
    "print(df_movies_netflix.info())"
   ]
  },
  {
   "cell_type": "markdown",
   "metadata": {},
   "source": [
    "# Feature Selection for Clustering\n",
    "\n",
    "- Lets start with just the description.\n",
    "\n",
    "- Preprocess and tokenize the description\n"
   ]
  },
  {
   "cell_type": "code",
   "execution_count": 5,
   "metadata": {},
   "outputs": [],
   "source": [
    "from sklearn.feature_extraction.text import TfidfVectorizer\n",
    "from sklearn.cluster import MiniBatchKMeans"
   ]
  },
  {
   "cell_type": "code",
   "execution_count": 6,
   "metadata": {},
   "outputs": [],
   "source": [
    "text_content = df_movies_netflix['description']\n",
    "vector = TfidfVectorizer(max_df = 0.4,           # drop words that occur more than max_df %\n",
    "                         stop_words = 'english', # remove stop words\n",
    "                         lowercase = True,       # everything to lowercase\n",
    "                         use_idf = True,\n",
    "                         norm = u'l2',\n",
    "                         smooth_idf = True       # prevent divide by zero errors\n",
    "                         )\n",
    "\n",
    "tfidf = vector.fit_transform(text_content)"
   ]
  },
  {
   "cell_type": "code",
   "execution_count": 7,
   "metadata": {},
   "outputs": [
    {
     "name": "stderr",
     "output_type": "stream",
     "text": [
      "/Users/jineshmehta/miniforge3/envs/tensorflow_env/lib/python3.9/site-packages/sklearn/utils/deprecation.py:87: FutureWarning: Function get_feature_names is deprecated; get_feature_names is deprecated in 1.0 and will be removed in 1.2. Please use get_feature_names_out instead.\n",
      "  warnings.warn(msg, category=FutureWarning)\n",
      "/var/folders/nq/q4k4cwnd3s5c42ytyzqtrrx40000gn/T/ipykernel_41620/2163654614.py:8: SettingWithCopyWarning: \n",
      "A value is trying to be set on a copy of a slice from a DataFrame.\n",
      "Try using .loc[row_indexer,col_indexer] = value instead\n",
      "\n",
      "See the caveats in the documentation: https://pandas.pydata.org/pandas-docs/stable/user_guide/indexing.html#returning-a-view-versus-a-copy\n",
      "  df_movies_netflix['cluster'] = kmeans.predict(request_transform)\n"
     ]
    },
    {
     "data": {
      "text/plain": [
       "0    4075\n",
       "2     700\n",
       "4     204\n",
       "1     171\n",
       "3     127\n",
       "Name: cluster, dtype: int64"
      ]
     },
     "execution_count": 7,
     "metadata": {},
     "output_type": "execute_result"
    }
   ],
   "source": [
    "k = 5\n",
    "kmeans = MiniBatchKMeans(n_clusters = k)\n",
    "kmeans.fit(tfidf)\n",
    "centres = kmeans.cluster_centers_.argsort()[:, ::-1]\n",
    "terms = vector.get_feature_names()\n",
    "\n",
    "request_transform = vector.transform(df_movies_netflix['description'])\n",
    "df_movies_netflix['cluster'] = kmeans.predict(request_transform)\n",
    "df_movies_netflix['cluster'].value_counts()"
   ]
  },
  {
   "cell_type": "markdown",
   "metadata": {},
   "source": [
    "## Classification"
   ]
  },
  {
   "cell_type": "markdown",
   "metadata": {},
   "source": [
    "### Preprocessing"
   ]
  },
  {
   "cell_type": "code",
   "execution_count": 8,
   "metadata": {},
   "outputs": [],
   "source": [
    "from tensorflow.keras.preprocessing.text import Tokenizer\n",
    "from tensorflow.keras.preprocessing.sequence import pad_sequences\n",
    "from sklearn.model_selection import train_test_split\n",
    "from tensorflow.keras.utils import to_categorical"
   ]
  },
  {
   "cell_type": "code",
   "execution_count": 9,
   "metadata": {},
   "outputs": [
    {
     "name": "stdout",
     "output_type": "stream",
     "text": [
      "Found 15155 unique tokens.\n"
     ]
    }
   ],
   "source": [
    "n_most_common_words = 8000\n",
    "max_len = 130\n",
    "tokenizer = Tokenizer(num_words=n_most_common_words, filters='!\"#$%&()*+,-./:;<=>?@[\\]^_`{|}~', lower=True)\n",
    "tokenizer.fit_on_texts(df_movies_netflix['description'].values)\n",
    "sequences = tokenizer.texts_to_sequences(df_movies_netflix['description'].values)\n",
    "word_index = tokenizer.word_index\n",
    "print('Found %s unique tokens.' % len(word_index))\n",
    "\n",
    "X = pad_sequences(sequences, maxlen=max_len)"
   ]
  },
  {
   "cell_type": "code",
   "execution_count": 10,
   "metadata": {},
   "outputs": [],
   "source": [
    "categorized_clustered_labels = to_categorical(df_movies_netflix['cluster'], num_classes=5)"
   ]
  },
  {
   "cell_type": "code",
   "execution_count": 11,
   "metadata": {},
   "outputs": [],
   "source": [
    "X_train, X_test, y_train, y_test = train_test_split(X , categorized_clustered_labels, test_size=0.25, random_state=42)"
   ]
  },
  {
   "cell_type": "code",
   "execution_count": 12,
   "metadata": {},
   "outputs": [],
   "source": [
    "epochs = 10\n",
    "emb_dim = 128\n",
    "batch_size = 256"
   ]
  },
  {
   "cell_type": "code",
   "execution_count": 13,
   "metadata": {},
   "outputs": [],
   "source": [
    "from tensorflow.keras.layers import Dense, Embedding, LSTM, SpatialDropout1D\n",
    "from tensorflow.keras.models import Sequential\n",
    "from tensorflow.keras.callbacks import EarlyStopping"
   ]
  },
  {
   "cell_type": "code",
   "execution_count": 15,
   "metadata": {},
   "outputs": [
    {
     "name": "stdout",
     "output_type": "stream",
     "text": [
      "((3957, 130), (3957, 5), (1320, 130), (1320, 5))\n",
      "WARNING:tensorflow:Layer lstm_1 will not use cuDNN kernels since it doesn't meet the criteria. It will use a generic GPU kernel as fallback when running on GPU.\n",
      "Model: \"sequential_1\"\n",
      "_________________________________________________________________\n",
      " Layer (type)                Output Shape              Param #   \n",
      "=================================================================\n",
      " embedding_1 (Embedding)     (None, 130, 128)          1024000   \n",
      "                                                                 \n",
      " spatial_dropout1d_1 (Spatia  (None, 130, 128)         0         \n",
      " lDropout1D)                                                     \n",
      "                                                                 \n",
      " lstm_1 (LSTM)               (None, 64)                49408     \n",
      "                                                                 \n",
      " dense_1 (Dense)             (None, 5)                 325       \n",
      "                                                                 \n",
      "=================================================================\n",
      "Total params: 1,073,733\n",
      "Trainable params: 1,073,733\n",
      "Non-trainable params: 0\n",
      "_________________________________________________________________\n",
      "None\n",
      "Epoch 1/10\n"
     ]
    },
    {
     "name": "stderr",
     "output_type": "stream",
     "text": [
      "2022-04-11 00:10:47.594566: I tensorflow/core/grappler/optimizers/custom_graph_optimizer_registry.cc:113] Plugin optimizer for device_type GPU is enabled.\n"
     ]
    },
    {
     "name": "stdout",
     "output_type": "stream",
     "text": [
      "13/13 [==============================] - ETA: 0s - loss: 1.5026 - acc: 0.5229 "
     ]
    },
    {
     "name": "stderr",
     "output_type": "stream",
     "text": [
      "2022-04-11 00:19:07.537276: I tensorflow/core/grappler/optimizers/custom_graph_optimizer_registry.cc:113] Plugin optimizer for device_type GPU is enabled.\n"
     ]
    },
    {
     "name": "stdout",
     "output_type": "stream",
     "text": [
      "13/13 [==============================] - 504s 39s/step - loss: 1.5026 - acc: 0.5229 - val_loss: 1.3952 - val_acc: 0.7879\n",
      "Epoch 2/10\n",
      "13/13 [==============================] - 508s 39s/step - loss: 1.1093 - acc: 0.7608 - val_loss: 0.8609 - val_acc: 0.7879\n",
      "Epoch 3/10\n",
      "13/13 [==============================] - 520s 40s/step - loss: 0.9173 - acc: 0.7690 - val_loss: 0.8410 - val_acc: 0.7879\n",
      "Epoch 4/10\n",
      "13/13 [==============================] - 513s 39s/step - loss: 0.8411 - acc: 0.7706 - val_loss: 0.7644 - val_acc: 0.7879\n",
      "Epoch 5/10\n",
      "13/13 [==============================] - 514s 40s/step - loss: 0.8218 - acc: 0.7709 - val_loss: 0.7659 - val_acc: 0.7879\n",
      "Epoch 6/10\n",
      "13/13 [==============================] - 515s 40s/step - loss: 0.8106 - acc: 0.7706 - val_loss: 0.7678 - val_acc: 0.7879\n",
      "Epoch 7/10\n",
      "13/13 [==============================] - 516s 40s/step - loss: 0.8036 - acc: 0.7703 - val_loss: 0.7597 - val_acc: 0.7879\n",
      "Epoch 8/10\n",
      "13/13 [==============================] - 516s 40s/step - loss: 0.8001 - acc: 0.7706 - val_loss: 0.7549 - val_acc: 0.7879\n",
      "Epoch 9/10\n",
      "13/13 [==============================] - 505s 39s/step - loss: 0.7961 - acc: 0.7703 - val_loss: 0.7554 - val_acc: 0.7879\n",
      "Epoch 10/10\n",
      "13/13 [==============================] - 568s 44s/step - loss: 0.7890 - acc: 0.7706 - val_loss: 0.7497 - val_acc: 0.7879\n"
     ]
    }
   ],
   "source": [
    "print((X_train.shape, y_train.shape, X_test.shape, y_test.shape))\n",
    "\n",
    "model = Sequential()\n",
    "model.add(Embedding(n_most_common_words, emb_dim, input_length=X.shape[1]))\n",
    "model.add(SpatialDropout1D(0.7))\n",
    "model.add(LSTM(64, dropout=0.7, recurrent_dropout=0.7))\n",
    "model.add(Dense(5, activation='softmax'))\n",
    "model.compile(optimizer='adam', loss='categorical_crossentropy', metrics=['acc'])\n",
    "print(model.summary())\n",
    "history = model.fit(X_train, y_train, epochs=epochs, batch_size=batch_size,validation_split=0.2,callbacks=[EarlyStopping(monitor='val_loss',patience=7, min_delta=0.0001)])"
   ]
  }
 ],
 "metadata": {
  "interpreter": {
   "hash": "949777d72b0d2535278d3dc13498b2535136f6dfe0678499012e853ee9abcab1"
  },
  "kernelspec": {
   "display_name": "mykernel",
   "language": "python",
   "name": "mykernel"
  },
  "language_info": {
   "codemirror_mode": {
    "name": "ipython",
    "version": 3
   },
   "file_extension": ".py",
   "mimetype": "text/x-python",
   "name": "python",
   "nbconvert_exporter": "python",
   "pygments_lexer": "ipython3",
   "version": "3.9.5"
  },
  "orig_nbformat": 4
 },
 "nbformat": 4,
 "nbformat_minor": 2
}
